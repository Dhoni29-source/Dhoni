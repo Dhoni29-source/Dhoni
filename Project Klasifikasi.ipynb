{
 "cells": [
  {
   "cell_type": "markdown",
   "metadata": {},
   "source": [
    "# **Chapstone Project: Classification Using Machine Learning**"
   ]
  },
  {
   "cell_type": "code",
   "execution_count": 1,
   "metadata": {},
   "outputs": [],
   "source": [
    "# All Modules are we need\n",
    "import pandas as pd\n",
    "import numpy as np\n",
    "import matplotlib.pyplot as plt\n",
    "import seaborn as sns\n",
    "import warnings\n",
    "warnings.filterwarnings('ignore')\n",
    "\n",
    "# print(plt.style.available) # Bisa pake style mana aja. Yg penting enak dilihat\n",
    "plt.style.use('seaborn-darkgrid')"
   ]
  },
  {
   "cell_type": "code",
   "execution_count": 2,
   "metadata": {
    "scrolled": false
   },
   "outputs": [
    {
     "data": {
      "text/html": [
       "<style  type=\"text/css\" >\n",
       "    #T_5e3f4b06_bebd_11ea_b066_70c94e01ace7row0_col0 {\n",
       "            background-color:  #00441b;\n",
       "            color:  #f1f1f1;\n",
       "        }    #T_5e3f4b06_bebd_11ea_b066_70c94e01ace7row0_col2 {\n",
       "            background-color:  #f4fbf2;\n",
       "            color:  #000000;\n",
       "        }    #T_5e3f4b06_bebd_11ea_b066_70c94e01ace7row0_col4 {\n",
       "            background-color:  #92d28f;\n",
       "            color:  #000000;\n",
       "        }    #T_5e3f4b06_bebd_11ea_b066_70c94e01ace7row0_col10 {\n",
       "            background-color:  #f7fcf5;\n",
       "            color:  #000000;\n",
       "        }    #T_5e3f4b06_bebd_11ea_b066_70c94e01ace7row0_col11 {\n",
       "            background-color:  #00441b;\n",
       "            color:  #f1f1f1;\n",
       "        }    #T_5e3f4b06_bebd_11ea_b066_70c94e01ace7row0_col12 {\n",
       "            background-color:  #6abf71;\n",
       "            color:  #000000;\n",
       "        }    #T_5e3f4b06_bebd_11ea_b066_70c94e01ace7row1_col0 {\n",
       "            background-color:  #05712f;\n",
       "            color:  #f1f1f1;\n",
       "        }    #T_5e3f4b06_bebd_11ea_b066_70c94e01ace7row1_col2 {\n",
       "            background-color:  #d9f0d3;\n",
       "            color:  #000000;\n",
       "        }    #T_5e3f4b06_bebd_11ea_b066_70c94e01ace7row1_col4 {\n",
       "            background-color:  #92d28f;\n",
       "            color:  #000000;\n",
       "        }    #T_5e3f4b06_bebd_11ea_b066_70c94e01ace7row1_col10 {\n",
       "            background-color:  #f7fcf5;\n",
       "            color:  #000000;\n",
       "        }    #T_5e3f4b06_bebd_11ea_b066_70c94e01ace7row1_col11 {\n",
       "            background-color:  #00441b;\n",
       "            color:  #f1f1f1;\n",
       "        }    #T_5e3f4b06_bebd_11ea_b066_70c94e01ace7row1_col12 {\n",
       "            background-color:  #f7fcf5;\n",
       "            color:  #000000;\n",
       "        }    #T_5e3f4b06_bebd_11ea_b066_70c94e01ace7row2_col0 {\n",
       "            background-color:  #56b567;\n",
       "            color:  #000000;\n",
       "        }    #T_5e3f4b06_bebd_11ea_b066_70c94e01ace7row2_col2 {\n",
       "            background-color:  #afdfa8;\n",
       "            color:  #000000;\n",
       "        }    #T_5e3f4b06_bebd_11ea_b066_70c94e01ace7row2_col4 {\n",
       "            background-color:  #73c476;\n",
       "            color:  #000000;\n",
       "        }    #T_5e3f4b06_bebd_11ea_b066_70c94e01ace7row2_col10 {\n",
       "            background-color:  #f7fcf5;\n",
       "            color:  #000000;\n",
       "        }    #T_5e3f4b06_bebd_11ea_b066_70c94e01ace7row2_col11 {\n",
       "            background-color:  #00441b;\n",
       "            color:  #f1f1f1;\n",
       "        }    #T_5e3f4b06_bebd_11ea_b066_70c94e01ace7row2_col12 {\n",
       "            background-color:  #6abf71;\n",
       "            color:  #000000;\n",
       "        }    #T_5e3f4b06_bebd_11ea_b066_70c94e01ace7row3_col0 {\n",
       "            background-color:  #a7dba0;\n",
       "            color:  #000000;\n",
       "        }    #T_5e3f4b06_bebd_11ea_b066_70c94e01ace7row3_col2 {\n",
       "            background-color:  #d3eecd;\n",
       "            color:  #000000;\n",
       "        }    #T_5e3f4b06_bebd_11ea_b066_70c94e01ace7row3_col4 {\n",
       "            background-color:  #f7fcf5;\n",
       "            color:  #000000;\n",
       "        }    #T_5e3f4b06_bebd_11ea_b066_70c94e01ace7row3_col10 {\n",
       "            background-color:  #f7fcf5;\n",
       "            color:  #000000;\n",
       "        }    #T_5e3f4b06_bebd_11ea_b066_70c94e01ace7row3_col11 {\n",
       "            background-color:  #38a156;\n",
       "            color:  #000000;\n",
       "        }    #T_5e3f4b06_bebd_11ea_b066_70c94e01ace7row3_col12 {\n",
       "            background-color:  #6abf71;\n",
       "            color:  #000000;\n",
       "        }    #T_5e3f4b06_bebd_11ea_b066_70c94e01ace7row4_col0 {\n",
       "            background-color:  #e5f5e0;\n",
       "            color:  #000000;\n",
       "        }    #T_5e3f4b06_bebd_11ea_b066_70c94e01ace7row4_col2 {\n",
       "            background-color:  #5eb96b;\n",
       "            color:  #000000;\n",
       "        }    #T_5e3f4b06_bebd_11ea_b066_70c94e01ace7row4_col4 {\n",
       "            background-color:  #73c476;\n",
       "            color:  #000000;\n",
       "        }    #T_5e3f4b06_bebd_11ea_b066_70c94e01ace7row4_col10 {\n",
       "            background-color:  #f7fcf5;\n",
       "            color:  #000000;\n",
       "        }    #T_5e3f4b06_bebd_11ea_b066_70c94e01ace7row4_col11 {\n",
       "            background-color:  #38a156;\n",
       "            color:  #000000;\n",
       "        }    #T_5e3f4b06_bebd_11ea_b066_70c94e01ace7row4_col12 {\n",
       "            background-color:  #6abf71;\n",
       "            color:  #000000;\n",
       "        }    #T_5e3f4b06_bebd_11ea_b066_70c94e01ace7row5_col0 {\n",
       "            background-color:  #f7fcf5;\n",
       "            color:  #000000;\n",
       "        }    #T_5e3f4b06_bebd_11ea_b066_70c94e01ace7row5_col2 {\n",
       "            background-color:  #92d28f;\n",
       "            color:  #000000;\n",
       "        }    #T_5e3f4b06_bebd_11ea_b066_70c94e01ace7row5_col4 {\n",
       "            background-color:  #92d28f;\n",
       "            color:  #000000;\n",
       "        }    #T_5e3f4b06_bebd_11ea_b066_70c94e01ace7row5_col10 {\n",
       "            background-color:  #f7fcf5;\n",
       "            color:  #000000;\n",
       "        }    #T_5e3f4b06_bebd_11ea_b066_70c94e01ace7row5_col11 {\n",
       "            background-color:  #58b668;\n",
       "            color:  #000000;\n",
       "        }    #T_5e3f4b06_bebd_11ea_b066_70c94e01ace7row5_col12 {\n",
       "            background-color:  #3da65a;\n",
       "            color:  #000000;\n",
       "        }    #T_5e3f4b06_bebd_11ea_b066_70c94e01ace7row6_col0 {\n",
       "            background-color:  #edf8e9;\n",
       "            color:  #000000;\n",
       "        }    #T_5e3f4b06_bebd_11ea_b066_70c94e01ace7row6_col2 {\n",
       "            background-color:  #ccebc6;\n",
       "            color:  #000000;\n",
       "        }    #T_5e3f4b06_bebd_11ea_b066_70c94e01ace7row6_col4 {\n",
       "            background-color:  #dbf1d6;\n",
       "            color:  #000000;\n",
       "        }    #T_5e3f4b06_bebd_11ea_b066_70c94e01ace7row6_col10 {\n",
       "            background-color:  #f7fcf5;\n",
       "            color:  #000000;\n",
       "        }    #T_5e3f4b06_bebd_11ea_b066_70c94e01ace7row6_col11 {\n",
       "            background-color:  #58b668;\n",
       "            color:  #000000;\n",
       "        }    #T_5e3f4b06_bebd_11ea_b066_70c94e01ace7row6_col12 {\n",
       "            background-color:  #6abf71;\n",
       "            color:  #000000;\n",
       "        }    #T_5e3f4b06_bebd_11ea_b066_70c94e01ace7row7_col0 {\n",
       "            background-color:  #2c944c;\n",
       "            color:  #000000;\n",
       "        }    #T_5e3f4b06_bebd_11ea_b066_70c94e01ace7row7_col2 {\n",
       "            background-color:  #f0f9ec;\n",
       "            color:  #000000;\n",
       "        }    #T_5e3f4b06_bebd_11ea_b066_70c94e01ace7row7_col4 {\n",
       "            background-color:  #00441b;\n",
       "            color:  #f1f1f1;\n",
       "        }    #T_5e3f4b06_bebd_11ea_b066_70c94e01ace7row7_col10 {\n",
       "            background-color:  #f7fcf5;\n",
       "            color:  #000000;\n",
       "        }    #T_5e3f4b06_bebd_11ea_b066_70c94e01ace7row7_col11 {\n",
       "            background-color:  #73c476;\n",
       "            color:  #000000;\n",
       "        }    #T_5e3f4b06_bebd_11ea_b066_70c94e01ace7row7_col12 {\n",
       "            background-color:  #f0f9ed;\n",
       "            color:  #000000;\n",
       "        }    #T_5e3f4b06_bebd_11ea_b066_70c94e01ace7row8_col0 {\n",
       "            background-color:  #48ae60;\n",
       "            color:  #000000;\n",
       "        }    #T_5e3f4b06_bebd_11ea_b066_70c94e01ace7row8_col2 {\n",
       "            background-color:  #00441b;\n",
       "            color:  #f1f1f1;\n",
       "        }    #T_5e3f4b06_bebd_11ea_b066_70c94e01ace7row8_col4 {\n",
       "            background-color:  #92d28f;\n",
       "            color:  #000000;\n",
       "        }    #T_5e3f4b06_bebd_11ea_b066_70c94e01ace7row8_col10 {\n",
       "            background-color:  #f7fcf5;\n",
       "            color:  #000000;\n",
       "        }    #T_5e3f4b06_bebd_11ea_b066_70c94e01ace7row8_col11 {\n",
       "            background-color:  #73c476;\n",
       "            color:  #000000;\n",
       "        }    #T_5e3f4b06_bebd_11ea_b066_70c94e01ace7row8_col12 {\n",
       "            background-color:  #6abf71;\n",
       "            color:  #000000;\n",
       "        }    #T_5e3f4b06_bebd_11ea_b066_70c94e01ace7row9_col0 {\n",
       "            background-color:  #e5f5e0;\n",
       "            color:  #000000;\n",
       "        }    #T_5e3f4b06_bebd_11ea_b066_70c94e01ace7row9_col2 {\n",
       "            background-color:  #f7fcf5;\n",
       "            color:  #000000;\n",
       "        }    #T_5e3f4b06_bebd_11ea_b066_70c94e01ace7row9_col4 {\n",
       "            background-color:  #73c476;\n",
       "            color:  #000000;\n",
       "        }    #T_5e3f4b06_bebd_11ea_b066_70c94e01ace7row9_col10 {\n",
       "            background-color:  #f7fcf5;\n",
       "            color:  #000000;\n",
       "        }    #T_5e3f4b06_bebd_11ea_b066_70c94e01ace7row9_col11 {\n",
       "            background-color:  #f7fcf5;\n",
       "            color:  #000000;\n",
       "        }    #T_5e3f4b06_bebd_11ea_b066_70c94e01ace7row9_col12 {\n",
       "            background-color:  #00441b;\n",
       "            color:  #f1f1f1;\n",
       "        }    #T_5e3f4b06_bebd_11ea_b066_70c94e01ace7row10_col0 {\n",
       "            background-color:  #d4eece;\n",
       "            color:  #000000;\n",
       "        }    #T_5e3f4b06_bebd_11ea_b066_70c94e01ace7row10_col2 {\n",
       "            background-color:  #bbe4b4;\n",
       "            color:  #000000;\n",
       "        }    #T_5e3f4b06_bebd_11ea_b066_70c94e01ace7row10_col4 {\n",
       "            background-color:  #00441b;\n",
       "            color:  #f1f1f1;\n",
       "        }    #T_5e3f4b06_bebd_11ea_b066_70c94e01ace7row10_col10 {\n",
       "            background-color:  #f7fcf5;\n",
       "            color:  #000000;\n",
       "        }    #T_5e3f4b06_bebd_11ea_b066_70c94e01ace7row10_col11 {\n",
       "            background-color:  #f7fcf5;\n",
       "            color:  #000000;\n",
       "        }    #T_5e3f4b06_bebd_11ea_b066_70c94e01ace7row10_col12 {\n",
       "            background-color:  #97d492;\n",
       "            color:  #000000;\n",
       "        }</style><table id=\"T_5e3f4b06_bebd_11ea_b066_70c94e01ace7\" ><thead>    <tr>        <th class=\"blank level0\" ></th>        <th class=\"col_heading level0 col0\" >age</th>        <th class=\"col_heading level0 col1\" >workclass</th>        <th class=\"col_heading level0 col2\" >fnlwgt</th>        <th class=\"col_heading level0 col3\" >education</th>        <th class=\"col_heading level0 col4\" >education.num</th>        <th class=\"col_heading level0 col5\" >marital.status</th>        <th class=\"col_heading level0 col6\" >occupation</th>        <th class=\"col_heading level0 col7\" >relationship</th>        <th class=\"col_heading level0 col8\" >race</th>        <th class=\"col_heading level0 col9\" >sex</th>        <th class=\"col_heading level0 col10\" >capital.gain</th>        <th class=\"col_heading level0 col11\" >capital.loss</th>        <th class=\"col_heading level0 col12\" >hours.per.week</th>        <th class=\"col_heading level0 col13\" >native.country</th>        <th class=\"col_heading level0 col14\" >income</th>    </tr></thead><tbody>\n",
       "                <tr>\n",
       "                        <th id=\"T_5e3f4b06_bebd_11ea_b066_70c94e01ace7level0_row0\" class=\"row_heading level0 row0\" >0</th>\n",
       "                        <td id=\"T_5e3f4b06_bebd_11ea_b066_70c94e01ace7row0_col0\" class=\"data row0 col0\" >90</td>\n",
       "                        <td id=\"T_5e3f4b06_bebd_11ea_b066_70c94e01ace7row0_col1\" class=\"data row0 col1\" >?</td>\n",
       "                        <td id=\"T_5e3f4b06_bebd_11ea_b066_70c94e01ace7row0_col2\" class=\"data row0 col2\" >77053</td>\n",
       "                        <td id=\"T_5e3f4b06_bebd_11ea_b066_70c94e01ace7row0_col3\" class=\"data row0 col3\" >HS-grad</td>\n",
       "                        <td id=\"T_5e3f4b06_bebd_11ea_b066_70c94e01ace7row0_col4\" class=\"data row0 col4\" >9</td>\n",
       "                        <td id=\"T_5e3f4b06_bebd_11ea_b066_70c94e01ace7row0_col5\" class=\"data row0 col5\" >Widowed</td>\n",
       "                        <td id=\"T_5e3f4b06_bebd_11ea_b066_70c94e01ace7row0_col6\" class=\"data row0 col6\" >?</td>\n",
       "                        <td id=\"T_5e3f4b06_bebd_11ea_b066_70c94e01ace7row0_col7\" class=\"data row0 col7\" >Not-in-family</td>\n",
       "                        <td id=\"T_5e3f4b06_bebd_11ea_b066_70c94e01ace7row0_col8\" class=\"data row0 col8\" >White</td>\n",
       "                        <td id=\"T_5e3f4b06_bebd_11ea_b066_70c94e01ace7row0_col9\" class=\"data row0 col9\" >Female</td>\n",
       "                        <td id=\"T_5e3f4b06_bebd_11ea_b066_70c94e01ace7row0_col10\" class=\"data row0 col10\" >0</td>\n",
       "                        <td id=\"T_5e3f4b06_bebd_11ea_b066_70c94e01ace7row0_col11\" class=\"data row0 col11\" >4356</td>\n",
       "                        <td id=\"T_5e3f4b06_bebd_11ea_b066_70c94e01ace7row0_col12\" class=\"data row0 col12\" >40</td>\n",
       "                        <td id=\"T_5e3f4b06_bebd_11ea_b066_70c94e01ace7row0_col13\" class=\"data row0 col13\" >United-States</td>\n",
       "                        <td id=\"T_5e3f4b06_bebd_11ea_b066_70c94e01ace7row0_col14\" class=\"data row0 col14\" ><=50K</td>\n",
       "            </tr>\n",
       "            <tr>\n",
       "                        <th id=\"T_5e3f4b06_bebd_11ea_b066_70c94e01ace7level0_row1\" class=\"row_heading level0 row1\" >1</th>\n",
       "                        <td id=\"T_5e3f4b06_bebd_11ea_b066_70c94e01ace7row1_col0\" class=\"data row1 col0\" >82</td>\n",
       "                        <td id=\"T_5e3f4b06_bebd_11ea_b066_70c94e01ace7row1_col1\" class=\"data row1 col1\" >Private</td>\n",
       "                        <td id=\"T_5e3f4b06_bebd_11ea_b066_70c94e01ace7row1_col2\" class=\"data row1 col2\" >132870</td>\n",
       "                        <td id=\"T_5e3f4b06_bebd_11ea_b066_70c94e01ace7row1_col3\" class=\"data row1 col3\" >HS-grad</td>\n",
       "                        <td id=\"T_5e3f4b06_bebd_11ea_b066_70c94e01ace7row1_col4\" class=\"data row1 col4\" >9</td>\n",
       "                        <td id=\"T_5e3f4b06_bebd_11ea_b066_70c94e01ace7row1_col5\" class=\"data row1 col5\" >Widowed</td>\n",
       "                        <td id=\"T_5e3f4b06_bebd_11ea_b066_70c94e01ace7row1_col6\" class=\"data row1 col6\" >Exec-managerial</td>\n",
       "                        <td id=\"T_5e3f4b06_bebd_11ea_b066_70c94e01ace7row1_col7\" class=\"data row1 col7\" >Not-in-family</td>\n",
       "                        <td id=\"T_5e3f4b06_bebd_11ea_b066_70c94e01ace7row1_col8\" class=\"data row1 col8\" >White</td>\n",
       "                        <td id=\"T_5e3f4b06_bebd_11ea_b066_70c94e01ace7row1_col9\" class=\"data row1 col9\" >Female</td>\n",
       "                        <td id=\"T_5e3f4b06_bebd_11ea_b066_70c94e01ace7row1_col10\" class=\"data row1 col10\" >0</td>\n",
       "                        <td id=\"T_5e3f4b06_bebd_11ea_b066_70c94e01ace7row1_col11\" class=\"data row1 col11\" >4356</td>\n",
       "                        <td id=\"T_5e3f4b06_bebd_11ea_b066_70c94e01ace7row1_col12\" class=\"data row1 col12\" >18</td>\n",
       "                        <td id=\"T_5e3f4b06_bebd_11ea_b066_70c94e01ace7row1_col13\" class=\"data row1 col13\" >United-States</td>\n",
       "                        <td id=\"T_5e3f4b06_bebd_11ea_b066_70c94e01ace7row1_col14\" class=\"data row1 col14\" ><=50K</td>\n",
       "            </tr>\n",
       "            <tr>\n",
       "                        <th id=\"T_5e3f4b06_bebd_11ea_b066_70c94e01ace7level0_row2\" class=\"row_heading level0 row2\" >2</th>\n",
       "                        <td id=\"T_5e3f4b06_bebd_11ea_b066_70c94e01ace7row2_col0\" class=\"data row2 col0\" >66</td>\n",
       "                        <td id=\"T_5e3f4b06_bebd_11ea_b066_70c94e01ace7row2_col1\" class=\"data row2 col1\" >?</td>\n",
       "                        <td id=\"T_5e3f4b06_bebd_11ea_b066_70c94e01ace7row2_col2\" class=\"data row2 col2\" >186061</td>\n",
       "                        <td id=\"T_5e3f4b06_bebd_11ea_b066_70c94e01ace7row2_col3\" class=\"data row2 col3\" >Some-college</td>\n",
       "                        <td id=\"T_5e3f4b06_bebd_11ea_b066_70c94e01ace7row2_col4\" class=\"data row2 col4\" >10</td>\n",
       "                        <td id=\"T_5e3f4b06_bebd_11ea_b066_70c94e01ace7row2_col5\" class=\"data row2 col5\" >Widowed</td>\n",
       "                        <td id=\"T_5e3f4b06_bebd_11ea_b066_70c94e01ace7row2_col6\" class=\"data row2 col6\" >?</td>\n",
       "                        <td id=\"T_5e3f4b06_bebd_11ea_b066_70c94e01ace7row2_col7\" class=\"data row2 col7\" >Unmarried</td>\n",
       "                        <td id=\"T_5e3f4b06_bebd_11ea_b066_70c94e01ace7row2_col8\" class=\"data row2 col8\" >Black</td>\n",
       "                        <td id=\"T_5e3f4b06_bebd_11ea_b066_70c94e01ace7row2_col9\" class=\"data row2 col9\" >Female</td>\n",
       "                        <td id=\"T_5e3f4b06_bebd_11ea_b066_70c94e01ace7row2_col10\" class=\"data row2 col10\" >0</td>\n",
       "                        <td id=\"T_5e3f4b06_bebd_11ea_b066_70c94e01ace7row2_col11\" class=\"data row2 col11\" >4356</td>\n",
       "                        <td id=\"T_5e3f4b06_bebd_11ea_b066_70c94e01ace7row2_col12\" class=\"data row2 col12\" >40</td>\n",
       "                        <td id=\"T_5e3f4b06_bebd_11ea_b066_70c94e01ace7row2_col13\" class=\"data row2 col13\" >United-States</td>\n",
       "                        <td id=\"T_5e3f4b06_bebd_11ea_b066_70c94e01ace7row2_col14\" class=\"data row2 col14\" ><=50K</td>\n",
       "            </tr>\n",
       "            <tr>\n",
       "                        <th id=\"T_5e3f4b06_bebd_11ea_b066_70c94e01ace7level0_row3\" class=\"row_heading level0 row3\" >3</th>\n",
       "                        <td id=\"T_5e3f4b06_bebd_11ea_b066_70c94e01ace7row3_col0\" class=\"data row3 col0\" >54</td>\n",
       "                        <td id=\"T_5e3f4b06_bebd_11ea_b066_70c94e01ace7row3_col1\" class=\"data row3 col1\" >Private</td>\n",
       "                        <td id=\"T_5e3f4b06_bebd_11ea_b066_70c94e01ace7row3_col2\" class=\"data row3 col2\" >140359</td>\n",
       "                        <td id=\"T_5e3f4b06_bebd_11ea_b066_70c94e01ace7row3_col3\" class=\"data row3 col3\" >7th-8th</td>\n",
       "                        <td id=\"T_5e3f4b06_bebd_11ea_b066_70c94e01ace7row3_col4\" class=\"data row3 col4\" >4</td>\n",
       "                        <td id=\"T_5e3f4b06_bebd_11ea_b066_70c94e01ace7row3_col5\" class=\"data row3 col5\" >Divorced</td>\n",
       "                        <td id=\"T_5e3f4b06_bebd_11ea_b066_70c94e01ace7row3_col6\" class=\"data row3 col6\" >Machine-op-inspct</td>\n",
       "                        <td id=\"T_5e3f4b06_bebd_11ea_b066_70c94e01ace7row3_col7\" class=\"data row3 col7\" >Unmarried</td>\n",
       "                        <td id=\"T_5e3f4b06_bebd_11ea_b066_70c94e01ace7row3_col8\" class=\"data row3 col8\" >White</td>\n",
       "                        <td id=\"T_5e3f4b06_bebd_11ea_b066_70c94e01ace7row3_col9\" class=\"data row3 col9\" >Female</td>\n",
       "                        <td id=\"T_5e3f4b06_bebd_11ea_b066_70c94e01ace7row3_col10\" class=\"data row3 col10\" >0</td>\n",
       "                        <td id=\"T_5e3f4b06_bebd_11ea_b066_70c94e01ace7row3_col11\" class=\"data row3 col11\" >3900</td>\n",
       "                        <td id=\"T_5e3f4b06_bebd_11ea_b066_70c94e01ace7row3_col12\" class=\"data row3 col12\" >40</td>\n",
       "                        <td id=\"T_5e3f4b06_bebd_11ea_b066_70c94e01ace7row3_col13\" class=\"data row3 col13\" >United-States</td>\n",
       "                        <td id=\"T_5e3f4b06_bebd_11ea_b066_70c94e01ace7row3_col14\" class=\"data row3 col14\" ><=50K</td>\n",
       "            </tr>\n",
       "            <tr>\n",
       "                        <th id=\"T_5e3f4b06_bebd_11ea_b066_70c94e01ace7level0_row4\" class=\"row_heading level0 row4\" >4</th>\n",
       "                        <td id=\"T_5e3f4b06_bebd_11ea_b066_70c94e01ace7row4_col0\" class=\"data row4 col0\" >41</td>\n",
       "                        <td id=\"T_5e3f4b06_bebd_11ea_b066_70c94e01ace7row4_col1\" class=\"data row4 col1\" >Private</td>\n",
       "                        <td id=\"T_5e3f4b06_bebd_11ea_b066_70c94e01ace7row4_col2\" class=\"data row4 col2\" >264663</td>\n",
       "                        <td id=\"T_5e3f4b06_bebd_11ea_b066_70c94e01ace7row4_col3\" class=\"data row4 col3\" >Some-college</td>\n",
       "                        <td id=\"T_5e3f4b06_bebd_11ea_b066_70c94e01ace7row4_col4\" class=\"data row4 col4\" >10</td>\n",
       "                        <td id=\"T_5e3f4b06_bebd_11ea_b066_70c94e01ace7row4_col5\" class=\"data row4 col5\" >Separated</td>\n",
       "                        <td id=\"T_5e3f4b06_bebd_11ea_b066_70c94e01ace7row4_col6\" class=\"data row4 col6\" >Prof-specialty</td>\n",
       "                        <td id=\"T_5e3f4b06_bebd_11ea_b066_70c94e01ace7row4_col7\" class=\"data row4 col7\" >Own-child</td>\n",
       "                        <td id=\"T_5e3f4b06_bebd_11ea_b066_70c94e01ace7row4_col8\" class=\"data row4 col8\" >White</td>\n",
       "                        <td id=\"T_5e3f4b06_bebd_11ea_b066_70c94e01ace7row4_col9\" class=\"data row4 col9\" >Female</td>\n",
       "                        <td id=\"T_5e3f4b06_bebd_11ea_b066_70c94e01ace7row4_col10\" class=\"data row4 col10\" >0</td>\n",
       "                        <td id=\"T_5e3f4b06_bebd_11ea_b066_70c94e01ace7row4_col11\" class=\"data row4 col11\" >3900</td>\n",
       "                        <td id=\"T_5e3f4b06_bebd_11ea_b066_70c94e01ace7row4_col12\" class=\"data row4 col12\" >40</td>\n",
       "                        <td id=\"T_5e3f4b06_bebd_11ea_b066_70c94e01ace7row4_col13\" class=\"data row4 col13\" >United-States</td>\n",
       "                        <td id=\"T_5e3f4b06_bebd_11ea_b066_70c94e01ace7row4_col14\" class=\"data row4 col14\" ><=50K</td>\n",
       "            </tr>\n",
       "            <tr>\n",
       "                        <th id=\"T_5e3f4b06_bebd_11ea_b066_70c94e01ace7level0_row5\" class=\"row_heading level0 row5\" >5</th>\n",
       "                        <td id=\"T_5e3f4b06_bebd_11ea_b066_70c94e01ace7row5_col0\" class=\"data row5 col0\" >34</td>\n",
       "                        <td id=\"T_5e3f4b06_bebd_11ea_b066_70c94e01ace7row5_col1\" class=\"data row5 col1\" >Private</td>\n",
       "                        <td id=\"T_5e3f4b06_bebd_11ea_b066_70c94e01ace7row5_col2\" class=\"data row5 col2\" >216864</td>\n",
       "                        <td id=\"T_5e3f4b06_bebd_11ea_b066_70c94e01ace7row5_col3\" class=\"data row5 col3\" >HS-grad</td>\n",
       "                        <td id=\"T_5e3f4b06_bebd_11ea_b066_70c94e01ace7row5_col4\" class=\"data row5 col4\" >9</td>\n",
       "                        <td id=\"T_5e3f4b06_bebd_11ea_b066_70c94e01ace7row5_col5\" class=\"data row5 col5\" >Divorced</td>\n",
       "                        <td id=\"T_5e3f4b06_bebd_11ea_b066_70c94e01ace7row5_col6\" class=\"data row5 col6\" >Other-service</td>\n",
       "                        <td id=\"T_5e3f4b06_bebd_11ea_b066_70c94e01ace7row5_col7\" class=\"data row5 col7\" >Unmarried</td>\n",
       "                        <td id=\"T_5e3f4b06_bebd_11ea_b066_70c94e01ace7row5_col8\" class=\"data row5 col8\" >White</td>\n",
       "                        <td id=\"T_5e3f4b06_bebd_11ea_b066_70c94e01ace7row5_col9\" class=\"data row5 col9\" >Female</td>\n",
       "                        <td id=\"T_5e3f4b06_bebd_11ea_b066_70c94e01ace7row5_col10\" class=\"data row5 col10\" >0</td>\n",
       "                        <td id=\"T_5e3f4b06_bebd_11ea_b066_70c94e01ace7row5_col11\" class=\"data row5 col11\" >3770</td>\n",
       "                        <td id=\"T_5e3f4b06_bebd_11ea_b066_70c94e01ace7row5_col12\" class=\"data row5 col12\" >45</td>\n",
       "                        <td id=\"T_5e3f4b06_bebd_11ea_b066_70c94e01ace7row5_col13\" class=\"data row5 col13\" >United-States</td>\n",
       "                        <td id=\"T_5e3f4b06_bebd_11ea_b066_70c94e01ace7row5_col14\" class=\"data row5 col14\" ><=50K</td>\n",
       "            </tr>\n",
       "            <tr>\n",
       "                        <th id=\"T_5e3f4b06_bebd_11ea_b066_70c94e01ace7level0_row6\" class=\"row_heading level0 row6\" >6</th>\n",
       "                        <td id=\"T_5e3f4b06_bebd_11ea_b066_70c94e01ace7row6_col0\" class=\"data row6 col0\" >38</td>\n",
       "                        <td id=\"T_5e3f4b06_bebd_11ea_b066_70c94e01ace7row6_col1\" class=\"data row6 col1\" >Private</td>\n",
       "                        <td id=\"T_5e3f4b06_bebd_11ea_b066_70c94e01ace7row6_col2\" class=\"data row6 col2\" >150601</td>\n",
       "                        <td id=\"T_5e3f4b06_bebd_11ea_b066_70c94e01ace7row6_col3\" class=\"data row6 col3\" >10th</td>\n",
       "                        <td id=\"T_5e3f4b06_bebd_11ea_b066_70c94e01ace7row6_col4\" class=\"data row6 col4\" >6</td>\n",
       "                        <td id=\"T_5e3f4b06_bebd_11ea_b066_70c94e01ace7row6_col5\" class=\"data row6 col5\" >Separated</td>\n",
       "                        <td id=\"T_5e3f4b06_bebd_11ea_b066_70c94e01ace7row6_col6\" class=\"data row6 col6\" >Adm-clerical</td>\n",
       "                        <td id=\"T_5e3f4b06_bebd_11ea_b066_70c94e01ace7row6_col7\" class=\"data row6 col7\" >Unmarried</td>\n",
       "                        <td id=\"T_5e3f4b06_bebd_11ea_b066_70c94e01ace7row6_col8\" class=\"data row6 col8\" >White</td>\n",
       "                        <td id=\"T_5e3f4b06_bebd_11ea_b066_70c94e01ace7row6_col9\" class=\"data row6 col9\" >Male</td>\n",
       "                        <td id=\"T_5e3f4b06_bebd_11ea_b066_70c94e01ace7row6_col10\" class=\"data row6 col10\" >0</td>\n",
       "                        <td id=\"T_5e3f4b06_bebd_11ea_b066_70c94e01ace7row6_col11\" class=\"data row6 col11\" >3770</td>\n",
       "                        <td id=\"T_5e3f4b06_bebd_11ea_b066_70c94e01ace7row6_col12\" class=\"data row6 col12\" >40</td>\n",
       "                        <td id=\"T_5e3f4b06_bebd_11ea_b066_70c94e01ace7row6_col13\" class=\"data row6 col13\" >United-States</td>\n",
       "                        <td id=\"T_5e3f4b06_bebd_11ea_b066_70c94e01ace7row6_col14\" class=\"data row6 col14\" ><=50K</td>\n",
       "            </tr>\n",
       "            <tr>\n",
       "                        <th id=\"T_5e3f4b06_bebd_11ea_b066_70c94e01ace7level0_row7\" class=\"row_heading level0 row7\" >7</th>\n",
       "                        <td id=\"T_5e3f4b06_bebd_11ea_b066_70c94e01ace7row7_col0\" class=\"data row7 col0\" >74</td>\n",
       "                        <td id=\"T_5e3f4b06_bebd_11ea_b066_70c94e01ace7row7_col1\" class=\"data row7 col1\" >State-gov</td>\n",
       "                        <td id=\"T_5e3f4b06_bebd_11ea_b066_70c94e01ace7row7_col2\" class=\"data row7 col2\" >88638</td>\n",
       "                        <td id=\"T_5e3f4b06_bebd_11ea_b066_70c94e01ace7row7_col3\" class=\"data row7 col3\" >Doctorate</td>\n",
       "                        <td id=\"T_5e3f4b06_bebd_11ea_b066_70c94e01ace7row7_col4\" class=\"data row7 col4\" >16</td>\n",
       "                        <td id=\"T_5e3f4b06_bebd_11ea_b066_70c94e01ace7row7_col5\" class=\"data row7 col5\" >Never-married</td>\n",
       "                        <td id=\"T_5e3f4b06_bebd_11ea_b066_70c94e01ace7row7_col6\" class=\"data row7 col6\" >Prof-specialty</td>\n",
       "                        <td id=\"T_5e3f4b06_bebd_11ea_b066_70c94e01ace7row7_col7\" class=\"data row7 col7\" >Other-relative</td>\n",
       "                        <td id=\"T_5e3f4b06_bebd_11ea_b066_70c94e01ace7row7_col8\" class=\"data row7 col8\" >White</td>\n",
       "                        <td id=\"T_5e3f4b06_bebd_11ea_b066_70c94e01ace7row7_col9\" class=\"data row7 col9\" >Female</td>\n",
       "                        <td id=\"T_5e3f4b06_bebd_11ea_b066_70c94e01ace7row7_col10\" class=\"data row7 col10\" >0</td>\n",
       "                        <td id=\"T_5e3f4b06_bebd_11ea_b066_70c94e01ace7row7_col11\" class=\"data row7 col11\" >3683</td>\n",
       "                        <td id=\"T_5e3f4b06_bebd_11ea_b066_70c94e01ace7row7_col12\" class=\"data row7 col12\" >20</td>\n",
       "                        <td id=\"T_5e3f4b06_bebd_11ea_b066_70c94e01ace7row7_col13\" class=\"data row7 col13\" >United-States</td>\n",
       "                        <td id=\"T_5e3f4b06_bebd_11ea_b066_70c94e01ace7row7_col14\" class=\"data row7 col14\" >>50K</td>\n",
       "            </tr>\n",
       "            <tr>\n",
       "                        <th id=\"T_5e3f4b06_bebd_11ea_b066_70c94e01ace7level0_row8\" class=\"row_heading level0 row8\" >8</th>\n",
       "                        <td id=\"T_5e3f4b06_bebd_11ea_b066_70c94e01ace7row8_col0\" class=\"data row8 col0\" >68</td>\n",
       "                        <td id=\"T_5e3f4b06_bebd_11ea_b066_70c94e01ace7row8_col1\" class=\"data row8 col1\" >Federal-gov</td>\n",
       "                        <td id=\"T_5e3f4b06_bebd_11ea_b066_70c94e01ace7row8_col2\" class=\"data row8 col2\" >422013</td>\n",
       "                        <td id=\"T_5e3f4b06_bebd_11ea_b066_70c94e01ace7row8_col3\" class=\"data row8 col3\" >HS-grad</td>\n",
       "                        <td id=\"T_5e3f4b06_bebd_11ea_b066_70c94e01ace7row8_col4\" class=\"data row8 col4\" >9</td>\n",
       "                        <td id=\"T_5e3f4b06_bebd_11ea_b066_70c94e01ace7row8_col5\" class=\"data row8 col5\" >Divorced</td>\n",
       "                        <td id=\"T_5e3f4b06_bebd_11ea_b066_70c94e01ace7row8_col6\" class=\"data row8 col6\" >Prof-specialty</td>\n",
       "                        <td id=\"T_5e3f4b06_bebd_11ea_b066_70c94e01ace7row8_col7\" class=\"data row8 col7\" >Not-in-family</td>\n",
       "                        <td id=\"T_5e3f4b06_bebd_11ea_b066_70c94e01ace7row8_col8\" class=\"data row8 col8\" >White</td>\n",
       "                        <td id=\"T_5e3f4b06_bebd_11ea_b066_70c94e01ace7row8_col9\" class=\"data row8 col9\" >Female</td>\n",
       "                        <td id=\"T_5e3f4b06_bebd_11ea_b066_70c94e01ace7row8_col10\" class=\"data row8 col10\" >0</td>\n",
       "                        <td id=\"T_5e3f4b06_bebd_11ea_b066_70c94e01ace7row8_col11\" class=\"data row8 col11\" >3683</td>\n",
       "                        <td id=\"T_5e3f4b06_bebd_11ea_b066_70c94e01ace7row8_col12\" class=\"data row8 col12\" >40</td>\n",
       "                        <td id=\"T_5e3f4b06_bebd_11ea_b066_70c94e01ace7row8_col13\" class=\"data row8 col13\" >United-States</td>\n",
       "                        <td id=\"T_5e3f4b06_bebd_11ea_b066_70c94e01ace7row8_col14\" class=\"data row8 col14\" ><=50K</td>\n",
       "            </tr>\n",
       "            <tr>\n",
       "                        <th id=\"T_5e3f4b06_bebd_11ea_b066_70c94e01ace7level0_row9\" class=\"row_heading level0 row9\" >9</th>\n",
       "                        <td id=\"T_5e3f4b06_bebd_11ea_b066_70c94e01ace7row9_col0\" class=\"data row9 col0\" >41</td>\n",
       "                        <td id=\"T_5e3f4b06_bebd_11ea_b066_70c94e01ace7row9_col1\" class=\"data row9 col1\" >Private</td>\n",
       "                        <td id=\"T_5e3f4b06_bebd_11ea_b066_70c94e01ace7row9_col2\" class=\"data row9 col2\" >70037</td>\n",
       "                        <td id=\"T_5e3f4b06_bebd_11ea_b066_70c94e01ace7row9_col3\" class=\"data row9 col3\" >Some-college</td>\n",
       "                        <td id=\"T_5e3f4b06_bebd_11ea_b066_70c94e01ace7row9_col4\" class=\"data row9 col4\" >10</td>\n",
       "                        <td id=\"T_5e3f4b06_bebd_11ea_b066_70c94e01ace7row9_col5\" class=\"data row9 col5\" >Never-married</td>\n",
       "                        <td id=\"T_5e3f4b06_bebd_11ea_b066_70c94e01ace7row9_col6\" class=\"data row9 col6\" >Craft-repair</td>\n",
       "                        <td id=\"T_5e3f4b06_bebd_11ea_b066_70c94e01ace7row9_col7\" class=\"data row9 col7\" >Unmarried</td>\n",
       "                        <td id=\"T_5e3f4b06_bebd_11ea_b066_70c94e01ace7row9_col8\" class=\"data row9 col8\" >White</td>\n",
       "                        <td id=\"T_5e3f4b06_bebd_11ea_b066_70c94e01ace7row9_col9\" class=\"data row9 col9\" >Male</td>\n",
       "                        <td id=\"T_5e3f4b06_bebd_11ea_b066_70c94e01ace7row9_col10\" class=\"data row9 col10\" >0</td>\n",
       "                        <td id=\"T_5e3f4b06_bebd_11ea_b066_70c94e01ace7row9_col11\" class=\"data row9 col11\" >3004</td>\n",
       "                        <td id=\"T_5e3f4b06_bebd_11ea_b066_70c94e01ace7row9_col12\" class=\"data row9 col12\" >60</td>\n",
       "                        <td id=\"T_5e3f4b06_bebd_11ea_b066_70c94e01ace7row9_col13\" class=\"data row9 col13\" >?</td>\n",
       "                        <td id=\"T_5e3f4b06_bebd_11ea_b066_70c94e01ace7row9_col14\" class=\"data row9 col14\" >>50K</td>\n",
       "            </tr>\n",
       "            <tr>\n",
       "                        <th id=\"T_5e3f4b06_bebd_11ea_b066_70c94e01ace7level0_row10\" class=\"row_heading level0 row10\" >10</th>\n",
       "                        <td id=\"T_5e3f4b06_bebd_11ea_b066_70c94e01ace7row10_col0\" class=\"data row10 col0\" >45</td>\n",
       "                        <td id=\"T_5e3f4b06_bebd_11ea_b066_70c94e01ace7row10_col1\" class=\"data row10 col1\" >Private</td>\n",
       "                        <td id=\"T_5e3f4b06_bebd_11ea_b066_70c94e01ace7row10_col2\" class=\"data row10 col2\" >172274</td>\n",
       "                        <td id=\"T_5e3f4b06_bebd_11ea_b066_70c94e01ace7row10_col3\" class=\"data row10 col3\" >Doctorate</td>\n",
       "                        <td id=\"T_5e3f4b06_bebd_11ea_b066_70c94e01ace7row10_col4\" class=\"data row10 col4\" >16</td>\n",
       "                        <td id=\"T_5e3f4b06_bebd_11ea_b066_70c94e01ace7row10_col5\" class=\"data row10 col5\" >Divorced</td>\n",
       "                        <td id=\"T_5e3f4b06_bebd_11ea_b066_70c94e01ace7row10_col6\" class=\"data row10 col6\" >Prof-specialty</td>\n",
       "                        <td id=\"T_5e3f4b06_bebd_11ea_b066_70c94e01ace7row10_col7\" class=\"data row10 col7\" >Unmarried</td>\n",
       "                        <td id=\"T_5e3f4b06_bebd_11ea_b066_70c94e01ace7row10_col8\" class=\"data row10 col8\" >Black</td>\n",
       "                        <td id=\"T_5e3f4b06_bebd_11ea_b066_70c94e01ace7row10_col9\" class=\"data row10 col9\" >Female</td>\n",
       "                        <td id=\"T_5e3f4b06_bebd_11ea_b066_70c94e01ace7row10_col10\" class=\"data row10 col10\" >0</td>\n",
       "                        <td id=\"T_5e3f4b06_bebd_11ea_b066_70c94e01ace7row10_col11\" class=\"data row10 col11\" >3004</td>\n",
       "                        <td id=\"T_5e3f4b06_bebd_11ea_b066_70c94e01ace7row10_col12\" class=\"data row10 col12\" >35</td>\n",
       "                        <td id=\"T_5e3f4b06_bebd_11ea_b066_70c94e01ace7row10_col13\" class=\"data row10 col13\" >United-States</td>\n",
       "                        <td id=\"T_5e3f4b06_bebd_11ea_b066_70c94e01ace7row10_col14\" class=\"data row10 col14\" >>50K</td>\n",
       "            </tr>\n",
       "    </tbody></table>"
      ],
      "text/plain": [
       "<pandas.io.formats.style.Styler at 0x21d43de3cf8>"
      ]
     },
     "execution_count": 2,
     "metadata": {},
     "output_type": "execute_result"
    }
   ],
   "source": [
    "# Melihat 10 data teratas dgn style gak biasa\n",
    "dsu = pd.read_csv(\"C:/Users/asus/Anaconda3/DSU/Supervised/dsu.csv\")\n",
    "ds = dsu.head(11)\n",
    "dsu1 = ds.style.background_gradient(cmap='Greens')\n",
    "dsu1"
   ]
  },
  {
   "cell_type": "code",
   "execution_count": 4,
   "metadata": {},
   "outputs": [
    {
     "name": "stdout",
     "output_type": "stream",
     "text": [
      "<class 'pandas.core.frame.DataFrame'>\n",
      "RangeIndex: 32561 entries, 0 to 32560\n",
      "Data columns (total 15 columns):\n",
      "age               32561 non-null int64\n",
      "workclass         32561 non-null object\n",
      "fnlwgt            32561 non-null int64\n",
      "education         32561 non-null object\n",
      "education.num     32561 non-null int64\n",
      "marital.status    32561 non-null object\n",
      "occupation        32561 non-null object\n",
      "relationship      32561 non-null object\n",
      "race              32561 non-null object\n",
      "sex               32561 non-null object\n",
      "capital.gain      32561 non-null int64\n",
      "capital.loss      32561 non-null int64\n",
      "hours.per.week    32561 non-null int64\n",
      "native.country    32561 non-null object\n",
      "income            32561 non-null object\n",
      "dtypes: int64(6), object(9)\n",
      "memory usage: 3.7+ MB\n"
     ]
    }
   ],
   "source": [
    "# Info datatype berdasarkan data yg dimiliki\n",
    "dsu.info()"
   ]
  },
  {
   "cell_type": "code",
   "execution_count": 5,
   "metadata": {},
   "outputs": [
    {
     "data": {
      "text/html": [
       "<div>\n",
       "<style scoped>\n",
       "    .dataframe tbody tr th:only-of-type {\n",
       "        vertical-align: middle;\n",
       "    }\n",
       "\n",
       "    .dataframe tbody tr th {\n",
       "        vertical-align: top;\n",
       "    }\n",
       "\n",
       "    .dataframe thead th {\n",
       "        text-align: right;\n",
       "    }\n",
       "</style>\n",
       "<table border=\"1\" class=\"dataframe\">\n",
       "  <thead>\n",
       "    <tr style=\"text-align: right;\">\n",
       "      <th></th>\n",
       "      <th>count</th>\n",
       "      <th>mean</th>\n",
       "      <th>std</th>\n",
       "      <th>min</th>\n",
       "      <th>25%</th>\n",
       "      <th>50%</th>\n",
       "      <th>75%</th>\n",
       "      <th>max</th>\n",
       "    </tr>\n",
       "  </thead>\n",
       "  <tbody>\n",
       "    <tr>\n",
       "      <th>age</th>\n",
       "      <td>32561.0</td>\n",
       "      <td>38.581647</td>\n",
       "      <td>13.640433</td>\n",
       "      <td>17.0</td>\n",
       "      <td>28.0</td>\n",
       "      <td>37.0</td>\n",
       "      <td>48.0</td>\n",
       "      <td>90.0</td>\n",
       "    </tr>\n",
       "    <tr>\n",
       "      <th>fnlwgt</th>\n",
       "      <td>32561.0</td>\n",
       "      <td>189778.366512</td>\n",
       "      <td>105549.977697</td>\n",
       "      <td>12285.0</td>\n",
       "      <td>117827.0</td>\n",
       "      <td>178356.0</td>\n",
       "      <td>237051.0</td>\n",
       "      <td>1484705.0</td>\n",
       "    </tr>\n",
       "    <tr>\n",
       "      <th>education.num</th>\n",
       "      <td>32561.0</td>\n",
       "      <td>10.080679</td>\n",
       "      <td>2.572720</td>\n",
       "      <td>1.0</td>\n",
       "      <td>9.0</td>\n",
       "      <td>10.0</td>\n",
       "      <td>12.0</td>\n",
       "      <td>16.0</td>\n",
       "    </tr>\n",
       "    <tr>\n",
       "      <th>capital.gain</th>\n",
       "      <td>32561.0</td>\n",
       "      <td>1077.648844</td>\n",
       "      <td>7385.292085</td>\n",
       "      <td>0.0</td>\n",
       "      <td>0.0</td>\n",
       "      <td>0.0</td>\n",
       "      <td>0.0</td>\n",
       "      <td>99999.0</td>\n",
       "    </tr>\n",
       "    <tr>\n",
       "      <th>capital.loss</th>\n",
       "      <td>32561.0</td>\n",
       "      <td>87.303830</td>\n",
       "      <td>402.960219</td>\n",
       "      <td>0.0</td>\n",
       "      <td>0.0</td>\n",
       "      <td>0.0</td>\n",
       "      <td>0.0</td>\n",
       "      <td>4356.0</td>\n",
       "    </tr>\n",
       "    <tr>\n",
       "      <th>hours.per.week</th>\n",
       "      <td>32561.0</td>\n",
       "      <td>40.437456</td>\n",
       "      <td>12.347429</td>\n",
       "      <td>1.0</td>\n",
       "      <td>40.0</td>\n",
       "      <td>40.0</td>\n",
       "      <td>45.0</td>\n",
       "      <td>99.0</td>\n",
       "    </tr>\n",
       "  </tbody>\n",
       "</table>\n",
       "</div>"
      ],
      "text/plain": [
       "                  count           mean            std      min       25%  \\\n",
       "age             32561.0      38.581647      13.640433     17.0      28.0   \n",
       "fnlwgt          32561.0  189778.366512  105549.977697  12285.0  117827.0   \n",
       "education.num   32561.0      10.080679       2.572720      1.0       9.0   \n",
       "capital.gain    32561.0    1077.648844    7385.292085      0.0       0.0   \n",
       "capital.loss    32561.0      87.303830     402.960219      0.0       0.0   \n",
       "hours.per.week  32561.0      40.437456      12.347429      1.0      40.0   \n",
       "\n",
       "                     50%       75%        max  \n",
       "age                 37.0      48.0       90.0  \n",
       "fnlwgt          178356.0  237051.0  1484705.0  \n",
       "education.num       10.0      12.0       16.0  \n",
       "capital.gain         0.0       0.0    99999.0  \n",
       "capital.loss         0.0       0.0     4356.0  \n",
       "hours.per.week      40.0      45.0       99.0  "
      ]
     },
     "execution_count": 5,
     "metadata": {},
     "output_type": "execute_result"
    }
   ],
   "source": [
    "# Report statistik data nya\n",
    "dsu.describe().T"
   ]
  },
  {
   "cell_type": "code",
   "execution_count": 6,
   "metadata": {},
   "outputs": [
    {
     "data": {
      "text/plain": [
       "age               0\n",
       "workclass         0\n",
       "fnlwgt            0\n",
       "education         0\n",
       "education.num     0\n",
       "marital.status    0\n",
       "occupation        0\n",
       "relationship      0\n",
       "race              0\n",
       "sex               0\n",
       "capital.gain      0\n",
       "capital.loss      0\n",
       "hours.per.week    0\n",
       "native.country    0\n",
       "income            0\n",
       "dtype: int64"
      ]
     },
     "execution_count": 6,
     "metadata": {},
     "output_type": "execute_result"
    }
   ],
   "source": [
    "# Cek Nilai Null\n",
    "dsu.isna().sum()"
   ]
  },
  {
   "cell_type": "markdown",
   "metadata": {},
   "source": [
    "# **Grafik klasifikasi income, berdasarkan beberapa parameter yg digunakan**"
   ]
  },
  {
   "cell_type": "code",
   "execution_count": 6,
   "metadata": {},
   "outputs": [
    {
     "data": {
      "image/png": "[encoded data removed]",
      "text/plain": [
       "<Figure size 1152x504 with 1 Axes>"
      ]
     },
     "metadata": {
      "needs_background": "light"
     },
     "output_type": "display_data"
    }
   ],
   "source": [
    "# Grafik Income berdasarkan status sosial \n",
    "plt.figure(figsize=(16,7))\n",
    "\n",
    "grafik_1 = [\"relationship\"]\n",
    "\n",
    "for i in range(1):\n",
    "    plt.title('Income berdasarkan Hubungan dan Status Perkawinan',size=20)\n",
    "    plt.subplot(1,2,i+1)\n",
    "    sns.countplot(x=grafik_1[i], data=dsu, hue=\"income\")\n",
    "    plt.xlabel(grafik_1[i], color=\"darkorange\", fontsize=18)\n",
    "    plt.ylabel(\"Count\", color=\"darkorange\", fontsize=18)\n",
    "    plt.xticks(rotation=90, fontsize=15)\n",
    "    plt.yticks(fontsize=15)\n",
    "    plt.grid(True)\n",
    "plt.title('Income berdasarkan Status sosial',size=20)\n",
    "plt.show()    "
   ]
  },
  {
   "cell_type": "code",
   "execution_count": 7,
   "metadata": {},
   "outputs": [
    {
     "data": {
      "image/png": "[encoded data removed]",
      "text/plain": [
       "<Figure size 1152x504 with 1 Axes>"
      ]
     },
     "metadata": {
      "needs_background": "light"
     },
     "output_type": "display_data"
    }
   ],
   "source": [
    "# Grafik Income berdasarkan status perkawinan\n",
    "plt.figure(figsize=(16,7))\n",
    "\n",
    "grafik_2 = [\"relationship\"]\n",
    "\n",
    "for i in range(1):\n",
    "    plt.subplot(1,2,i+1)\n",
    "    sns.countplot(x=grafik_2[i], data=dsu, hue=\"income\")\n",
    "    plt.xlabel(grafik_2[i], color=\"darkorange\", fontsize=18)\n",
    "    plt.ylabel(\"Count\", color=\"darkorange\", fontsize=18)\n",
    "    plt.xticks(rotation=90, fontsize=15)\n",
    "    plt.yticks(fontsize=15)\n",
    "    plt.grid(True)\n",
    "    \n",
    "plt.title('Income berdasarkan Status Perkawinan',size=20)\n",
    "plt.show()    "
   ]
  },
  {
   "cell_type": "code",
   "execution_count": 8,
   "metadata": {},
   "outputs": [
    {
     "data": {
      "image/png": "[encoded data removed]",
      "text/plain": [
       "<Figure size 1080x504 with 1 Axes>"
      ]
     },
     "metadata": {
      "needs_background": "light"
     },
     "output_type": "display_data"
    }
   ],
   "source": [
    "# Grafik Income berdasarkan Ras/Keturunan\n",
    "plt.figure(figsize=(15,7))\n",
    "\n",
    "grafik_3=[\"race\"]\n",
    "\n",
    "for i in range(1):\n",
    "    plt.subplot(1,2,i+1)\n",
    "    sns.countplot(x=grafik_3[i],data=dsu,hue='income')\n",
    "    plt.xlabel(grafik_3[i],color=\"darkorange\",fontsize=18)\n",
    "    plt.ylabel(\"Count\",color=\"darkorange\",fontsize=18)\n",
    "    plt.yticks(fontsize=13)\n",
    "    plt.xticks(rotation=90,fontsize=13)\n",
    "    plt.grid(True)\n",
    "    \n",
    "plt.title('Income Berdasarkan Ras',size=20)\n",
    "plt.show()"
   ]
  },
  {
   "cell_type": "code",
   "execution_count": 9,
   "metadata": {},
   "outputs": [
    {
     "data": {
      "image/png": "[encoded data removed]",
      "text/plain": [
       "<Figure size 1080x504 with 1 Axes>"
      ]
     },
     "metadata": {
      "needs_background": "light"
     },
     "output_type": "display_data"
    }
   ],
   "source": [
    "# Grafik Income berdasarkan Jenis Kelamin\n",
    "plt.figure(figsize=(15,7))\n",
    "\n",
    "grafik_4=[\"sex\"]\n",
    "\n",
    "for i in range(1):\n",
    "    plt.subplot(1,2,i+1)\n",
    "    sns.countplot(x=grafik_4[i], data=dsu, hue='income')\n",
    "    plt.xlabel(grafik_4[i], color=\"darkorange\", fontsize=18)\n",
    "    plt.ylabel(\"Count\", color=\"darkorange\", fontsize=18)\n",
    "    plt.yticks(fontsize=13)\n",
    "    plt.xticks(rotation=90, fontsize=13)\n",
    "    plt.grid(True)\n",
    "    \n",
    "plt.title('Income Berdasarkan Jenis Kelamin',size=20)\n",
    "plt.show()"
   ]
  },
  {
   "cell_type": "code",
   "execution_count": 10,
   "metadata": {},
   "outputs": [
    {
     "data": {
      "image/png": "[encoded data removed]",
      "text/plain": [
       "<Figure size 2160x576 with 1 Axes>"
      ]
     },
     "metadata": {
      "needs_background": "light"
     },
     "output_type": "display_data"
    }
   ],
   "source": [
    "# Grafik Income berdasarkan  Pendidikan\n",
    "plt.figure(figsize=(30,8))\n",
    "\n",
    "grafik_3 = [\"education\"]\n",
    "\n",
    "for i in range(1):\n",
    "    plt.subplot(1,2,i+1)\n",
    "    sns.countplot(x=grafik_3[i], data=dsu, hue=\"income\")\n",
    "    plt.xlabel(grafik_3[i], color=\"darkorange\", fontsize=20)\n",
    "    plt.ylabel(\"Count\", color=\"darkorange\", fontsize=20)\n",
    "    plt.yticks(fontsize=13)\n",
    "    plt.xticks(rotation=90,fontsize=13)\n",
    "    plt.grid(True)\n",
    "plt.title('Income Berdasarkan Tingkat Pendidikan',size=20)\n",
    "plt.show()"
   ]
  },
  {
   "cell_type": "markdown",
   "metadata": {},
   "source": [
    "# **Melakukan klasifikasi dan melihat nilai Akurasi menggunakan beberapa metode**"
   ]
  },
  {
   "cell_type": "code",
   "execution_count": 3,
   "metadata": {},
   "outputs": [
    {
     "data": {
      "text/plain": [
       "education\n",
       "10th            1\n",
       "11th            1\n",
       "12th            1\n",
       "1st-4th         1\n",
       "5th-6th         1\n",
       "7th-8th         1\n",
       "9th             1\n",
       "Assoc-acdm      1\n",
       "Assoc-voc       1\n",
       "Bachelors       1\n",
       "Doctorate       1\n",
       "HS-grad         1\n",
       "Masters         1\n",
       "Preschool       1\n",
       "Prof-school     1\n",
       "Some-college    1\n",
       "Name: education.num, dtype: int64"
      ]
     },
     "execution_count": 3,
     "metadata": {},
     "output_type": "execute_result"
    }
   ],
   "source": [
    "# Memisahkan antara data dan label menggunakan fungsi pop\n",
    "y = dsu.pop('income')\n",
    "# Mengelompokkan 2 kolom yg memiliki interpretasi sama yaitu education\n",
    "dsu.groupby('education').nunique()['education.num']"
   ]
  },
  {
   "cell_type": "code",
   "execution_count": 4,
   "metadata": {},
   "outputs": [
    {
     "name": "stdout",
     "output_type": "stream",
     "text": [
      "(32561, 92)\n"
     ]
    },
    {
     "data": {
      "text/html": [
       "<div>\n",
       "<style scoped>\n",
       "    .dataframe tbody tr th:only-of-type {\n",
       "        vertical-align: middle;\n",
       "    }\n",
       "\n",
       "    .dataframe tbody tr th {\n",
       "        vertical-align: top;\n",
       "    }\n",
       "\n",
       "    .dataframe thead th {\n",
       "        text-align: right;\n",
       "    }\n",
       "</style>\n",
       "<table border=\"1\" class=\"dataframe\">\n",
       "  <thead>\n",
       "    <tr style=\"text-align: right;\">\n",
       "      <th></th>\n",
       "      <th>age</th>\n",
       "      <th>fnlwgt</th>\n",
       "      <th>education.num</th>\n",
       "      <th>capital.gain</th>\n",
       "      <th>capital.loss</th>\n",
       "      <th>hours.per.week</th>\n",
       "      <th>workclass_?</th>\n",
       "      <th>workclass_Federal-gov</th>\n",
       "      <th>workclass_Local-gov</th>\n",
       "      <th>workclass_Never-worked</th>\n",
       "      <th>...</th>\n",
       "      <th>native.country_Portugal</th>\n",
       "      <th>native.country_Puerto-Rico</th>\n",
       "      <th>native.country_Scotland</th>\n",
       "      <th>native.country_South</th>\n",
       "      <th>native.country_Taiwan</th>\n",
       "      <th>native.country_Thailand</th>\n",
       "      <th>native.country_Trinadad&amp;Tobago</th>\n",
       "      <th>native.country_United-States</th>\n",
       "      <th>native.country_Vietnam</th>\n",
       "      <th>native.country_Yugoslavia</th>\n",
       "    </tr>\n",
       "  </thead>\n",
       "  <tbody>\n",
       "    <tr>\n",
       "      <th>0</th>\n",
       "      <td>90</td>\n",
       "      <td>77053</td>\n",
       "      <td>9</td>\n",
       "      <td>0</td>\n",
       "      <td>4356</td>\n",
       "      <td>40</td>\n",
       "      <td>1</td>\n",
       "      <td>0</td>\n",
       "      <td>0</td>\n",
       "      <td>0</td>\n",
       "      <td>...</td>\n",
       "      <td>0</td>\n",
       "      <td>0</td>\n",
       "      <td>0</td>\n",
       "      <td>0</td>\n",
       "      <td>0</td>\n",
       "      <td>0</td>\n",
       "      <td>0</td>\n",
       "      <td>1</td>\n",
       "      <td>0</td>\n",
       "      <td>0</td>\n",
       "    </tr>\n",
       "    <tr>\n",
       "      <th>1</th>\n",
       "      <td>82</td>\n",
       "      <td>132870</td>\n",
       "      <td>9</td>\n",
       "      <td>0</td>\n",
       "      <td>4356</td>\n",
       "      <td>18</td>\n",
       "      <td>0</td>\n",
       "      <td>0</td>\n",
       "      <td>0</td>\n",
       "      <td>0</td>\n",
       "      <td>...</td>\n",
       "      <td>0</td>\n",
       "      <td>0</td>\n",
       "      <td>0</td>\n",
       "      <td>0</td>\n",
       "      <td>0</td>\n",
       "      <td>0</td>\n",
       "      <td>0</td>\n",
       "      <td>1</td>\n",
       "      <td>0</td>\n",
       "      <td>0</td>\n",
       "    </tr>\n",
       "    <tr>\n",
       "      <th>2</th>\n",
       "      <td>66</td>\n",
       "      <td>186061</td>\n",
       "      <td>10</td>\n",
       "      <td>0</td>\n",
       "      <td>4356</td>\n",
       "      <td>40</td>\n",
       "      <td>1</td>\n",
       "      <td>0</td>\n",
       "      <td>0</td>\n",
       "      <td>0</td>\n",
       "      <td>...</td>\n",
       "      <td>0</td>\n",
       "      <td>0</td>\n",
       "      <td>0</td>\n",
       "      <td>0</td>\n",
       "      <td>0</td>\n",
       "      <td>0</td>\n",
       "      <td>0</td>\n",
       "      <td>1</td>\n",
       "      <td>0</td>\n",
       "      <td>0</td>\n",
       "    </tr>\n",
       "    <tr>\n",
       "      <th>3</th>\n",
       "      <td>54</td>\n",
       "      <td>140359</td>\n",
       "      <td>4</td>\n",
       "      <td>0</td>\n",
       "      <td>3900</td>\n",
       "      <td>40</td>\n",
       "      <td>0</td>\n",
       "      <td>0</td>\n",
       "      <td>0</td>\n",
       "      <td>0</td>\n",
       "      <td>...</td>\n",
       "      <td>0</td>\n",
       "      <td>0</td>\n",
       "      <td>0</td>\n",
       "      <td>0</td>\n",
       "      <td>0</td>\n",
       "      <td>0</td>\n",
       "      <td>0</td>\n",
       "      <td>1</td>\n",
       "      <td>0</td>\n",
       "      <td>0</td>\n",
       "    </tr>\n",
       "    <tr>\n",
       "      <th>4</th>\n",
       "      <td>41</td>\n",
       "      <td>264663</td>\n",
       "      <td>10</td>\n",
       "      <td>0</td>\n",
       "      <td>3900</td>\n",
       "      <td>40</td>\n",
       "      <td>0</td>\n",
       "      <td>0</td>\n",
       "      <td>0</td>\n",
       "      <td>0</td>\n",
       "      <td>...</td>\n",
       "      <td>0</td>\n",
       "      <td>0</td>\n",
       "      <td>0</td>\n",
       "      <td>0</td>\n",
       "      <td>0</td>\n",
       "      <td>0</td>\n",
       "      <td>0</td>\n",
       "      <td>1</td>\n",
       "      <td>0</td>\n",
       "      <td>0</td>\n",
       "    </tr>\n",
       "  </tbody>\n",
       "</table>\n",
       "<p>5 rows × 92 columns</p>\n",
       "</div>"
      ],
      "text/plain": [
       "   age  fnlwgt  education.num  capital.gain  capital.loss  hours.per.week  \\\n",
       "0   90   77053              9             0          4356              40   \n",
       "1   82  132870              9             0          4356              18   \n",
       "2   66  186061             10             0          4356              40   \n",
       "3   54  140359              4             0          3900              40   \n",
       "4   41  264663             10             0          3900              40   \n",
       "\n",
       "   workclass_?  workclass_Federal-gov  workclass_Local-gov  \\\n",
       "0            1                      0                    0   \n",
       "1            0                      0                    0   \n",
       "2            1                      0                    0   \n",
       "3            0                      0                    0   \n",
       "4            0                      0                    0   \n",
       "\n",
       "   workclass_Never-worked  ...  native.country_Portugal  \\\n",
       "0                       0  ...                        0   \n",
       "1                       0  ...                        0   \n",
       "2                       0  ...                        0   \n",
       "3                       0  ...                        0   \n",
       "4                       0  ...                        0   \n",
       "\n",
       "   native.country_Puerto-Rico  native.country_Scotland  native.country_South  \\\n",
       "0                           0                        0                     0   \n",
       "1                           0                        0                     0   \n",
       "2                           0                        0                     0   \n",
       "3                           0                        0                     0   \n",
       "4                           0                        0                     0   \n",
       "\n",
       "   native.country_Taiwan  native.country_Thailand  \\\n",
       "0                      0                        0   \n",
       "1                      0                        0   \n",
       "2                      0                        0   \n",
       "3                      0                        0   \n",
       "4                      0                        0   \n",
       "\n",
       "   native.country_Trinadad&Tobago  native.country_United-States  \\\n",
       "0                               0                             1   \n",
       "1                               0                             1   \n",
       "2                               0                             1   \n",
       "3                               0                             1   \n",
       "4                               0                             1   \n",
       "\n",
       "   native.country_Vietnam  native.country_Yugoslavia  \n",
       "0                       0                          0  \n",
       "1                       0                          0  \n",
       "2                       0                          0  \n",
       "3                       0                          0  \n",
       "4                       0                          0  \n",
       "\n",
       "[5 rows x 92 columns]"
      ]
     },
     "execution_count": 4,
     "metadata": {},
     "output_type": "execute_result"
    }
   ],
   "source": [
    "# Menghapus kolom education dan memasukkan fungsi dummies kedalam data untuk mendapatkan unique value di setiap kolomnya\n",
    "dsu.drop('education', axis = 1, inplace = True)\n",
    "dsu = pd.get_dummies(dsu)\n",
    "print(dsu.shape)\n",
    "dsu.head()"
   ]
  },
  {
   "cell_type": "code",
   "execution_count": 5,
   "metadata": {},
   "outputs": [
    {
     "name": "stdout",
     "output_type": "stream",
     "text": [
      "jumlah data train :  26048\n",
      "jumlah data test :  6513\n"
     ]
    }
   ],
   "source": [
    "# Split dgn data train = 80% dan data test = 20%\n",
    "from sklearn.model_selection import train_test_split\n",
    "from sklearn.metrics import accuracy_score, confusion_matrix\n",
    "\n",
    "X_train, X_test, y_train, y_test = train_test_split(dsu, y, test_size=0.2, random_state=42)\n",
    "print('jumlah data train : ',len(X_train))\n",
    "print('jumlah data test : ',len(X_test))"
   ]
  },
  {
   "cell_type": "code",
   "execution_count": 6,
   "metadata": {},
   "outputs": [
    {
     "data": {
      "text/plain": [
       "KNeighborsClassifier(algorithm='auto', leaf_size=30, metric='minkowski',\n",
       "           metric_params=None, n_jobs=None, n_neighbors=5, p=2,\n",
       "           weights='uniform')"
      ]
     },
     "execution_count": 6,
     "metadata": {},
     "output_type": "execute_result"
    }
   ],
   "source": [
    "# Modelling dgn KNN\n",
    "from sklearn.neighbors import KNeighborsClassifier\n",
    "\n",
    "model = KNeighborsClassifier(n_neighbors=5)\n",
    "model.fit(X_train,y_train)"
   ]
  },
  {
   "cell_type": "code",
   "execution_count": 7,
   "metadata": {},
   "outputs": [
    {
     "name": "stdout",
     "output_type": "stream",
     "text": [
      "Nilai Akurasi dari model KNN :  0.7787501919238446\n",
      "[[4605 1070]\n",
      " [ 371  467]]\n"
     ]
    }
   ],
   "source": [
    "prediksi = model.predict(X_test)\n",
    "print('Nilai Akurasi dari model KNN : ', accuracy_score(prediksi, y_test))\n",
    "print(confusion_matrix(prediksi, y_test))"
   ]
  },
  {
   "cell_type": "code",
   "execution_count": 8,
   "metadata": {},
   "outputs": [
    {
     "data": {
      "text/plain": [
       "DecisionTreeClassifier(class_weight=None, criterion='entropy', max_depth=10,\n",
       "            max_features=None, max_leaf_nodes=None,\n",
       "            min_impurity_decrease=0.0, min_impurity_split=None,\n",
       "            min_samples_leaf=1, min_samples_split=2,\n",
       "            min_weight_fraction_leaf=0.0, presort=False, random_state=None,\n",
       "            splitter='best')"
      ]
     },
     "execution_count": 8,
     "metadata": {},
     "output_type": "execute_result"
    }
   ],
   "source": [
    "# Modelling dgn Decision Tree Classifier\n",
    "from sklearn.tree import DecisionTreeClassifier\n",
    "\n",
    "model = DecisionTreeClassifier(max_depth=10, criterion='entropy')\n",
    "model.fit(X_train,y_train)"
   ]
  },
  {
   "cell_type": "code",
   "execution_count": 9,
   "metadata": {},
   "outputs": [
    {
     "name": "stdout",
     "output_type": "stream",
     "text": [
      "Nilai Akurasi dari model Decision Tree Classifier :  0.8536772608628896\n",
      "[[4748  725]\n",
      " [ 228  812]]\n"
     ]
    }
   ],
   "source": [
    "prediksi = model.predict(X_test)\n",
    "print('Nilai Akurasi dari model Decision Tree Classifier : ', accuracy_score(prediksi, y_test))\n",
    "print(confusion_matrix(prediksi, y_test))"
   ]
  },
  {
   "cell_type": "code",
   "execution_count": 9,
   "metadata": {},
   "outputs": [
    {
     "name": "stdout",
     "output_type": "stream",
     "text": [
      "SVC(C=1.0, cache_size=200, class_weight=None, coef0=0.0,\n",
      "  decision_function_shape='ovr', degree=3, gamma='auto_deprecated',\n",
      "  kernel='rbf', max_iter=-1, probability=False, random_state=None,\n",
      "  shrinking=True, tol=0.001, verbose=False)\n",
      "\n",
      "Nilai Akurasi dari model Support Vektor Classifier : 0.8023952095808383\n",
      "[[4712 1033]\n",
      " [ 254  514]]\n"
     ]
    }
   ],
   "source": [
    "# Modelling dgn Support Vektor Classifier\n",
    "from sklearn.model_selection import train_test_split\n",
    "from sklearn.metrics import accuracy_score, confusion_matrix\n",
    "from sklearn.svm import SVC\n",
    "\n",
    "data_set = pd.read_csv(\"C:/Users/asus/Anaconda3/DSU/Supervised/dsu.csv\")\n",
    "\n",
    "# Preprocessing dgn Mengubah nilai income >50K dan <=50K menjadi data boolean yaitu 0 dan 1 \n",
    "income_set = set(data_set['income'])\n",
    "data_set['income'] = data_set['income'].map({'<=50K': 0, '>50K': 1}).astype(int)\n",
    "\n",
    "#Variabel x sbg parameter yg digunakan \n",
    "X = data_set[['education.num', 'age', 'hours.per.week', 'capital.gain']]\n",
    "\n",
    "# variabel Y \n",
    "Y = data_set['income']\n",
    "\n",
    "# Split dgn data train = 80% dan data test = 20%\n",
    "X_train, x_test, Y_train, y_test = train_test_split(X, Y, test_size=0.2, random_state=0)\n",
    "\n",
    "classifier = SVC()\n",
    "\n",
    "model = classifier.fit(X_train,Y_train)\n",
    "prediksi = classifier.predict(x_test)\n",
    "print(model)\n",
    "print('\\nNilai Akurasi dari model Support Vektor Classifier :', accuracy_score(prediksi, y_test))\n",
    "print(confusion_matrix(prediksi, y_test))"
   ]
  },
  {
   "cell_type": "markdown",
   "metadata": {},
   "source": [
    "# **Membuat Map Korelasi**"
   ]
  },
  {
   "cell_type": "code",
   "execution_count": 10,
   "metadata": {},
   "outputs": [
    {
     "name": "stdout",
     "output_type": "stream",
     "text": [
      "{'Other-service', 'Exec-managerial', '?', 'Handlers-cleaners', 'Transport-moving', 'Armed-Forces', 'Tech-support', 'Prof-specialty', 'Adm-clerical', 'Priv-house-serv', 'Farming-fishing', 'Protective-serv', 'Craft-repair', 'Machine-op-inspct', 'Sales'}\n"
     ]
    }
   ],
   "source": [
    "# Melihat seluruh kategori yg ada di kolom occupation\n",
    "occupation_set = set(data_set['occupation'])\n",
    "print(occupation_set)"
   ]
  },
  {
   "cell_type": "code",
   "execution_count": 11,
   "metadata": {},
   "outputs": [],
   "source": [
    "# Membuat seluruh kategori di kolom occupation sebagai nilai numerik.\n",
    "data_set['occupation'] = data_set['occupation'].map({'?': 0, 'Farming-fishing': 1, 'Tech-support': 2, \n",
    "                                                       'Adm-clerical': 3, 'Handlers-cleaners': 4, 'Prof-specialty': 5,\n",
    "                                                       'Machine-op-inspct': 6, 'Exec-managerial': 7, \n",
    "                                                       'Priv-house-serv': 8, 'Craft-repair': 9, 'Sales': 10, \n",
    "                                                       'Transport-moving': 11, 'Armed-Forces': 12, 'Other-service': 13, \n",
    "                                                       'Protective-serv': 14}).astype(int)"
   ]
  },
  {
   "cell_type": "code",
   "execution_count": 12,
   "metadata": {},
   "outputs": [
    {
     "name": "stdout",
     "output_type": "stream",
     "text": [
      "{'Black', 'Amer-Indian-Eskimo', 'Other', 'Asian-Pac-Islander', 'White'}\n"
     ]
    }
   ],
   "source": [
    "# Melihat seluruh kategori ras yg ada di kolom race\n",
    "race_set = set(data_set['race'])\n",
    "print(race_set)"
   ]
  },
  {
   "cell_type": "code",
   "execution_count": 13,
   "metadata": {},
   "outputs": [],
   "source": [
    "# Membuat seluruh kategori di kolom race sebagai nilai numerik.\n",
    "data_set['race'] = data_set['race'].map({'Black': 0, 'Asian-Pac-Islander': 1, 'Other': 2, 'White': 3, \n",
    "                                             'Amer-Indian-Eskimo': 4}).astype(int)"
   ]
  },
  {
   "cell_type": "code",
   "execution_count": 14,
   "metadata": {},
   "outputs": [
    {
     "name": "stdout",
     "output_type": "stream",
     "text": [
      "{'Married-AF-spouse', 'Divorced', 'Separated', 'Widowed', 'Married-civ-spouse', 'Married-spouse-absent', 'Never-married'}\n"
     ]
    }
   ],
   "source": [
    "# Melihat seluruh status perkawinan yg ada di kolom marital.status\n",
    "mstatus_set = set(data_set['marital.status'])\n",
    "print(mstatus_set)"
   ]
  },
  {
   "cell_type": "code",
   "execution_count": 15,
   "metadata": {},
   "outputs": [],
   "source": [
    "# Membuat seluruh kategori di kolom marital.status sebagai nilai numerik.\n",
    "data_set['marital.status'] = data_set['marital.status'].map({'Married-spouse-absent': 0, 'Widowed': 1, \n",
    "                                                             'Married-civ-spouse': 2, 'Separated': 3, 'Divorced': 4, \n",
    "                                                             'Never-married': 5, 'Married-AF-spouse': 6}).astype(int)"
   ]
  },
  {
   "cell_type": "code",
   "execution_count": 16,
   "metadata": {},
   "outputs": [
    {
     "name": "stdout",
     "output_type": "stream",
     "text": [
      "{'Puerto-Rico', 'United-States', 'El-Salvador', 'China', 'Canada', 'Jamaica', 'France', 'Haiti', 'Columbia', 'Germany', 'Iran', 'Dominican-Republic', 'Vietnam', 'Peru', 'Poland', 'Honduras', 'Ireland', 'Cambodia', 'Portugal', 'Guatemala', 'Mexico', 'India', 'Thailand', 'Yugoslavia', 'Greece', 'Scotland', 'England', 'Cuba', 'Outlying-US(Guam-USVI-etc)', 'Hungary', 'Japan', 'Taiwan', 'Hong', '?', 'Nicaragua', 'South', 'Ecuador', 'Trinadad&Tobago', 'Holand-Netherlands', 'Laos', 'Italy', 'Philippines'}\n"
     ]
    }
   ],
   "source": [
    "# Melihat seluruh Negara di kolom native.country\n",
    "native_set = set(data_set['native.country'])\n",
    "print(native_set)"
   ]
  },
  {
   "cell_type": "code",
   "execution_count": 17,
   "metadata": {},
   "outputs": [],
   "source": [
    "# Membuat seluruh kategori di kolom native.country sebagai nilai numerik.\n",
    "data_set['native.country'] = data_set['native.country'].map({'Nicaragua': 0, 'South': 1, 'Japan': 2, \n",
    "                                                       'United-States': 3, 'Germany': 4, 'Thailand': 5,\n",
    "                                                       'Puerto-Rico': 6, 'India': 7, \n",
    "                                                       'Yugoslavia': 8, 'Canada': 9, 'Vietnam': 10, \n",
    "                                                       'Ireland': 11, 'Scotland': 12, 'Dominican-Republic': 13, \n",
    "                                                       'China': 14, 'Philippines': 15, '?': 16,\n",
    "                                                        'Peru': 17, 'Trinadad&Tobago': 18, 'Ecuador': 19,\n",
    "                                                        'Italy': 20, 'Haiti': 21, 'Poland': 22, \n",
    "                                                        'Portugal': 23, 'Laos': 24, 'Taiwan': 25,\n",
    "                                                        'Columbia': 26, 'Mexico': 27, 'Outlying-US(Guam-USVI-etc)': 28,\n",
    "                                                        'Cuba': 29, 'Cambodia': 30, 'Iran': 31, 'Hong': 32,\n",
    "                                                        'Greece': 33, 'El-Salvador': 34, 'France': 35, 'Holand-Netherlands': 36,\n",
    "                                                        'Honduras': 37, 'Guatemala': 38, 'England': 39, 'Hungary': 40,\n",
    "                                                        'Jamaica': 41}).astype(int)"
   ]
  },
  {
   "cell_type": "code",
   "execution_count": 18,
   "metadata": {},
   "outputs": [
    {
     "name": "stdout",
     "output_type": "stream",
     "text": [
      "{'Self-emp-not-inc', '?', 'Federal-gov', 'Without-pay', 'Never-worked', 'Private', 'Self-emp-inc', 'State-gov', 'Local-gov'}\n"
     ]
    }
   ],
   "source": [
    "# Melihat seluruh Jenis pekerjaan yg ada di kolom workclas\n",
    "work_set = set(data_set['workclass'])\n",
    "print(work_set)"
   ]
  },
  {
   "cell_type": "code",
   "execution_count": 19,
   "metadata": {},
   "outputs": [],
   "source": [
    "# Membuat seluruh kategori di kolom Jenis pekerjaan sebagai nilai numerik.\n",
    "data_set['workclass'] = data_set['workclass'].map({'Self-emp-inc': 0, 'Private': 1, \n",
    "                                                    'Federal-gov': 2, 'Without-pay': 3, 'Never-worked': 4, \n",
    "                                                    'State-gov': 5, 'Local-gov': 6, 'Self-emp-not-inc': 7,\n",
    "                                                    '?': 8}).astype(int)"
   ]
  },
  {
   "cell_type": "code",
   "execution_count": 20,
   "metadata": {},
   "outputs": [
    {
     "name": "stdout",
     "output_type": "stream",
     "text": [
      "{'Wife', 'Unmarried', 'Other-relative', 'Own-child', 'Husband', 'Not-in-family'}\n"
     ]
    }
   ],
   "source": [
    "# Melihat seluruh status hubungan sosial yg ada di kolom relationship\n",
    "relation_set = set(data_set['relationship'])\n",
    "print(relation_set)"
   ]
  },
  {
   "cell_type": "code",
   "execution_count": 21,
   "metadata": {},
   "outputs": [],
   "source": [
    "# Membuat seluruh kategori di kolom relationship sebagai nilai numerik.\n",
    "data_set['relationship'] = data_set['relationship'].map({'Not-in-family': 0, 'Husband': 1,\n",
    "                                                         'Unmarried': 3, 'Other-relative': 4,\n",
    "                                                        'Wife': 5, 'Own-child':6}).astype(int)"
   ]
  },
  {
   "cell_type": "code",
   "execution_count": 22,
   "metadata": {},
   "outputs": [
    {
     "name": "stdout",
     "output_type": "stream",
     "text": [
      "{'Female', 'Male'}\n"
     ]
    }
   ],
   "source": [
    "# Melihat seluruh Jenis kelamin yg ada di kolom sex\n",
    "sex_set = set(data_set['sex'])\n",
    "print(sex_set)"
   ]
  },
  {
   "cell_type": "code",
   "execution_count": 23,
   "metadata": {},
   "outputs": [],
   "source": [
    "# Membuat seluruh kategori di kolom Jenis kelamin sebagai nilai numerik.\n",
    "data_set['sex'] = data_set['sex'].map({'Male': 0, 'Female': 1,}).astype(int)"
   ]
  },
  {
   "cell_type": "markdown",
   "metadata": {},
   "source": [
    "# Mencetak hasil korelasi matrix nya"
   ]
  },
  {
   "cell_type": "code",
   "execution_count": 24,
   "metadata": {},
   "outputs": [
    {
     "data": {
      "image/png": "[encoded data removed]",
      "text/plain": [
       "<Figure size 864x648 with 2 Axes>"
      ]
     },
     "metadata": {
      "needs_background": "light"
     },
     "output_type": "display_data"
    }
   ],
   "source": [
    "corrmat = data_set.corr()\n",
    "f, ax = plt.subplots(figsize=(12, 9))\n",
    "k = 8 \n",
    "cols = corrmat.nlargest(k, 'income')['income'].index\n",
    "cm = np.corrcoef(data_set[cols].values.T)\n",
    "sns.set(font_scale=1.25)\n",
    "hm = sns.heatmap(cm, cbar=True, annot=True, square=True, cmap=\"Greens\", fmt='.2f', annot_kws={'size': 10}, yticklabels=cols.values, xticklabels=cols.values)\n",
    "plt.title('Matriks Korelasi;\\nHubungan antar variabel didalam data', size=20)\n",
    "plt.show()"
   ]
  },
  {
   "cell_type": "code",
   "execution_count": null,
   "metadata": {},
   "outputs": [],
   "source": []
  }
 ],
 "metadata": {
  "kernelspec": {
   "display_name": "Python 3",
   "language": "python",
   "name": "python3"
  },
  "language_info": {
   "codemirror_mode": {
    "name": "ipython",
    "version": 3
   },
   "file_extension": ".py",
   "mimetype": "text/x-python",
   "name": "python",
   "nbconvert_exporter": "python",
   "pygments_lexer": "ipython3",
   "version": "3.7.3"
  }
 },
 "nbformat": 4,
 "nbformat_minor": 2
}
