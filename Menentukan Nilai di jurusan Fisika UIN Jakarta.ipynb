{
 "cells": [
  {
   "cell_type": "code",
   "execution_count": 4,
   "metadata": {},
   "outputs": [
    {
     "name": "stdout",
     "output_type": "stream",
     "text": [
      "Menentukan kualitas dan kuantitas nilai\n",
      "\n",
      "Masukkan nilai formatif: 80\n",
      "Masukkan nilai UTS: 80\n",
      "Masukkan nilai UAS: 80\n",
      "\n",
      "Nilai akhir (kuantitas) = 80.0\n",
      "\n",
      "Grade nilai (kualitas) = A\n"
     ]
    }
   ],
   "source": [
    "#Menentukan kualitas dan kuantitas nilai di jurusan Fisika UIN Jakarta \n",
    "\n",
    "#Deklarasi bobot nilai untuk menentukan Grade\n",
    "bobot_formatif = 0.3 # Formatif 30%\n",
    "bobot_uts = 0.3 # UTS 30%\n",
    "bobot_uas = 0.4 # UAS 40%\n",
    "\n",
    "print('Menentukan kualitas dan kuantitas nilai')\n",
    "#Input nilai\n",
    "nilai_formatif = int(input(\"\\nMasukkan nilai formatif: \"))\n",
    "nilai_uts = int(input(\"Masukkan nilai UTS: \"))\n",
    "nilai_uas = int(input(\"Masukkan nilai UAS: \"))\n",
    "\n",
    "#Rumus mencari nilai akhir\n",
    "nilai_akhir = bobot_formatif * nilai_formatif + bobot_uts * nilai_uts + bobot_uas * nilai_uas\n",
    "\n",
    "#Penentuan grade nilai \n",
    "if nilai_akhir >= 80:\n",
    "    grade = 'A'\n",
    "elif nilai_akhir >= 70:\n",
    "    grade = 'B'\n",
    "elif nilai_akhir >= 60:\n",
    "    grade = 'C'\n",
    "elif nilai_akhir >= 50:\n",
    "    grade = 'D'\n",
    "elif nilai_alhir >= 40:\n",
    "    grade = 'E'\n",
    "    \n",
    "print('\\nNilai akhir (kuantitas) = {}'.format(nilai_akhir))\n",
    "print('\\nGrade nilai (kualitas) = {}'.format(grade))"
   ]
  }
 ],
 "metadata": {
  "kernelspec": {
   "display_name": "Python 3",
   "language": "python",
   "name": "python3"
  },
  "language_info": {
   "codemirror_mode": {
    "name": "ipython",
    "version": 3
   },
   "file_extension": ".py",
   "mimetype": "text/x-python",
   "name": "python",
   "nbconvert_exporter": "python",
   "pygments_lexer": "ipython3",
   "version": "3.7.3"
  }
 },
 "nbformat": 4,
 "nbformat_minor": 2
}
