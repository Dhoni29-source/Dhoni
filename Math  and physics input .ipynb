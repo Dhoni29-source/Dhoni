{
 "cells": [
  {
   "cell_type": "code",
   "execution_count": 1,
   "metadata": {},
   "outputs": [],
   "source": [
    "%matplotlib inline\n",
    "import matplotlib.pyplot as plot\n",
    "import numpy as np\n",
    "import math\n",
    "import sys"
   ]
  },
  {
   "cell_type": "code",
   "execution_count": 2,
   "metadata": {},
   "outputs": [
    {
     "name": "stdout",
     "output_type": "stream",
     "text": [
      "Hukum Coulomb\n",
      "Masukkan muatan listrik 1 skala coulomb: 10\n",
      "Masukkan muatan listrik 2 skala coulomb: 20\n",
      "Masukkan jari-jari dalam skala meter: 0.2\n",
      "Gaya Coulomb dalam skala newton adalah \t: 44999999999999.99\n"
     ]
    }
   ],
   "source": [
    "def main():\n",
    "    print(\"Hukum Coulomb\")\n",
    "    \n",
    "    Q1 = float(input(\"Masukkan muatan listrik 1 skala coulomb: \"))\n",
    "    Q2 = float(input(\"Masukkan muatan listrik 2 skala coulomb: \"))\n",
    "    R = float(input(\"Masukkan jari-jari dalam skala meter: \"))\n",
    "    K = 9000000000\n",
    "    \n",
    "    F = K * Q1 * Q2 / R**2\n",
    "    \n",
    "    print(\"Gaya Coulomb dalam skala newton adalah \\t:\", F)\n",
    "    \n",
    "if __name__ == \"__main__\":\n",
    "    main()"
   ]
  },
  {
   "cell_type": "code",
   "execution_count": 3,
   "metadata": {},
   "outputs": [
    {
     "name": "stdout",
     "output_type": "stream",
     "text": [
      "akar-akar persamaan kuadrat\n",
      "masukkan variabel a: 1\n",
      "masukkan variable b: 3\n",
      "masukkan variabel c: 2\n",
      "\n",
      "x1 = -1\n",
      "x2 = -2\n"
     ]
    }
   ],
   "source": [
    "#Mencari nilai akar persmaan kuadrat\n",
    "\n",
    "#Input variabel a,b,c pada bentuk umum ax'2 + bx + c = 0\n",
    "def main():\n",
    "    print(\"akar-akar persamaan kuadrat\")\n",
    "    a = int(input(\"masukkan variabel a: \"))\n",
    "    b = int(input(\"masukkan variable b: \"))\n",
    "    c = int(input(\"masukkan variabel c: \"))\n",
    "    \n",
    "    #Rumus diskriminan\n",
    "    D = (b*b) - (4*a*c)\n",
    "    \n",
    "    #Penyesuain kondisi berdasarkan hasil diskriminan\n",
    "    if D < 0:\n",
    "        print(\"akarnya imajiner\")\n",
    "        sys.exit(1)\n",
    "    elif D == 0:\n",
    "        x1 = (-b + math.sqrt(D)) / (2*a)\n",
    "        x2 = x1\n",
    "    else:\n",
    "        x1 = (-b + math.sqrt(D)) / (2*a)\n",
    "        x2 = (-b - math.sqrt(D)) / (2*a)\n",
    "        \n",
    "    #Mencetak hasil perhitungan\n",
    "    print(\"\\nx1 = %d\" %x1)\n",
    "    print(\"x2 = %d\" %x2)\n",
    "    \n",
    "if __name__ == \"__main__\":\n",
    "    main()"
   ]
  },
  {
   "cell_type": "code",
   "execution_count": 4,
   "metadata": {},
   "outputs": [
    {
     "name": "stdout",
     "output_type": "stream",
     "text": [
      "Mencari kecepatan (ms-2) dan waktu jatuh benda (s)\n",
      "Masukkan nilai gravitasi (ms-2): 9.8\n",
      "Masukkan ketinggian benda(m): 20\n",
      "Kecepatan jatuh benda (ms-1) \t : 19.79898987322333\n",
      "Waktu tempuh benda (sekon) \t\t 2.0203050891044216\n"
     ]
    }
   ],
   "source": [
    "import numpy as np\n",
    "\n",
    "#Mencari kecepatan dan waktu tempuh benda yang jatuh bebas ke tanah\n",
    "print(\"Mencari kecepatan (ms-2) dan waktu jatuh benda (s)\")\n",
    "G = float(input(\"Masukkan nilai gravitasi (ms-2): \"))\n",
    "H = float(input(\"Masukkan ketinggian benda(m): \"))\n",
    "\n",
    "v = np.sqrt(2*G*H)\n",
    "t= np.sqrt(2*H/G)\n",
    "\n",
    "print(\"Kecepatan jatuh benda (ms-1) \\t :\", v)\n",
    "print(\"Waktu tempuh benda (sekon) \\t\\t\", t)"
   ]
  },
  {
   "cell_type": "code",
   "execution_count": 6,
   "metadata": {},
   "outputs": [
    {
     "name": "stdout",
     "output_type": "stream",
     "text": [
      "Masukkan gravitasi (ms-2): 9.8\n",
      "Masukkan ketinggian (m): 20\n"
     ]
    },
    {
     "data": {
      "text/plain": [
       "Text(0, 0.5, 'ketinggian (m)')"
      ]
     },
     "execution_count": 6,
     "metadata": {},
     "output_type": "execute_result"
    },
    {
     "data": {
      "image/png": "[encoded data removed]",
      "text/plain": [
       "<Figure size 432x288 with 1 Axes>"
      ]
     },
     "metadata": {
      "needs_background": "light"
     },
     "output_type": "display_data"
    }
   ],
   "source": [
    "\n",
    "G = float(input(\"Masukkan gravitasi (ms-2): \")) # besaran gravitasi bumi (ms-2)\n",
    "H = int(input(\"Masukkan ketinggian (m): \")) # height, ketinggian benda yang jatuh bebas (m)\n",
    "\n",
    "t_ground = np.sqrt(2*H/G) # waktu yang dibutuhkan untuk sampai tanah (sec)\n",
    "\n",
    "tl = np.arange(0,t_ground,0.1) # generate list t dari t=0 s.d t = t_ground interval 0.1 secs\n",
    "hl = [] # list untuk menyimpan \n",
    "\n",
    "for t in tl:\n",
    "    ht = H + -0.5 * G * t * t \n",
    "    hl.append(ht)\n",
    "\n",
    "plot.plot(tl,hl)\n",
    "plot.title('Ketinggian benda jatuh bebas terhadap waktu hingga benda mencapai tanah \\n') # judul plot\n",
    "plot.xlabel('waktu (s)') # sumb x\n",
    "plot.ylabel('ketinggian (m)') # sumbu y"
   ]
  }
 ],
 "metadata": {
  "kernelspec": {
   "display_name": "Python 3",
   "language": "python",
   "name": "python3"
  },
  "language_info": {
   "codemirror_mode": {
    "name": "ipython",
    "version": 3
   },
   "file_extension": ".py",
   "mimetype": "text/x-python",
   "name": "python",
   "nbconvert_exporter": "python",
   "pygments_lexer": "ipython3",
   "version": "3.7.3"
  }
 },
 "nbformat": 4,
 "nbformat_minor": 2
}
